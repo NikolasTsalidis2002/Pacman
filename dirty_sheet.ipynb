{
 "cells": [
  {
   "cell_type": "code",
   "execution_count": 2,
   "metadata": {},
   "outputs": [],
   "source": [
    "import pygame\n",
    "from pygame.locals import *\n",
    "from constants import *\n",
    "\n",
    "pygame.init()\n",
    "screen = pygame.display.set_mode(SCREENSIZE, 0, 32)\n",
    "sheet = pygame.image.load(\"spritesheet_mspacman.png\").convert()"
   ]
  },
  {
   "cell_type": "code",
   "execution_count": 5,
   "metadata": {},
   "outputs": [],
   "source": [
    "BASETILEWIDTH = 16\n",
    "BASETILEHEIGHT = 16\n",
    "\n",
    "sheet = pygame.image.load(\"spritesheet_mspacman.png\").convert()\n",
    "transcolor = sheet.get_at((0,0))\n",
    "sheet.set_colorkey(transcolor)\n",
    "width = int(sheet.get_width() / BASETILEWIDTH * TILEWIDTH)\n",
    "height = int(sheet.get_height() / BASETILEHEIGHT * TILEHEIGHT)\n",
    "sheet = pygame.transform.scale(sheet, (width, height))"
   ]
  },
  {
   "cell_type": "code",
   "execution_count": 6,
   "metadata": {},
   "outputs": [
    {
     "data": {
      "text/plain": [
       "<Surface(352x224x32 SW)>"
      ]
     },
     "execution_count": 6,
     "metadata": {},
     "output_type": "execute_result"
    }
   ],
   "source": [
    "sheet"
   ]
  },
  {
   "cell_type": "code",
   "execution_count": 7,
   "metadata": {},
   "outputs": [],
   "source": [
    "import numpy as np\n",
    "level = np.loadtxt('maze1.txt', dtype='<U1')"
   ]
  },
  {
   "cell_type": "code",
   "execution_count": 12,
   "metadata": {},
   "outputs": [
    {
     "data": {
      "text/plain": [
       "'X'"
      ]
     },
     "execution_count": 12,
     "metadata": {},
     "output_type": "execute_result"
    }
   ],
   "source": [
    "# level[(0, 17), (27, 17)]\n",
    "level[(0, 17)]"
   ]
  },
  {
   "cell_type": "code",
   "execution_count": 1,
   "metadata": {},
   "outputs": [
    {
     "data": {
      "text/plain": [
       "{(16, 64): [None, 1, None, 1, None],\n",
       " (96, 64): [None, 1, 1, 1, None],\n",
       " (192, 64): [None, 1, 1, None, None],\n",
       " (240, 64): [None, 1, None, 1, None],\n",
       " (336, 64): [None, 1, 1, 1, None],\n",
       " (416, 64): [None, 1, 1, None, None],\n",
       " (16, 128): [1, 1, None, 1, None],\n",
       " (96, 128): [1, 1, 1, 1, None],\n",
       " (144, 128): [None, 1, 1, 1, None],\n",
       " (192, 128): [1, None, 1, 1, None],\n",
       " (240, 128): [1, None, 1, 1, None],\n",
       " (288, 128): [None, 1, 1, 1, None],\n",
       " (336, 128): [1, 1, 1, 1, None],\n",
       " (416, 128): [1, 1, 1, None, None],\n",
       " (16, 176): [1, None, None, 1, None],\n",
       " (96, 176): [1, 1, 1, None, None],\n",
       " (144, 176): [1, None, None, 1, None],\n",
       " (192, 176): [None, 1, 1, None, None],\n",
       " (240, 176): [None, 1, None, 1, None],\n",
       " (288, 176): [1, None, 1, None, None],\n",
       " (336, 176): [1, 1, None, 1, None],\n",
       " (416, 176): [1, None, 1, None, None],\n",
       " (144, 224): [None, 1, None, 1, None],\n",
       " (192, 224): [1, None, 1, 1, None],\n",
       " (240, 224): [1, None, 1, 1, None],\n",
       " (288, 224): [None, 1, 1, None, None],\n",
       " (0, 272): [None, None, None, 1, None],\n",
       " (96, 272): [1, 1, 1, 1, None],\n",
       " (144, 272): [1, 1, 1, None, None],\n",
       " (288, 272): [1, 1, None, 1, None],\n",
       " (336, 272): [1, 1, 1, 1, None],\n",
       " (432, 272): [None, None, 1, None, None],\n",
       " (144, 320): [1, 1, None, 1, None],\n",
       " (288, 320): [1, 1, 1, None, None],\n",
       " (16, 368): [None, 1, None, 1, None],\n",
       " (96, 368): [1, 1, 1, 1, None],\n",
       " (144, 368): [1, None, 1, 1, None],\n",
       " (192, 368): [None, 1, 1, None, None],\n",
       " (240, 368): [None, 1, None, 1, None],\n",
       " (288, 368): [1, None, 1, 1, None],\n",
       " (336, 368): [1, 1, 1, 1, None],\n",
       " (416, 368): [None, 1, 1, None, None],\n",
       " (16, 416): [1, None, None, 1, None],\n",
       " (48, 416): [None, 1, 1, None, None],\n",
       " (96, 416): [1, 1, None, 1, None],\n",
       " (144, 416): [None, 1, 1, 1, None],\n",
       " (192, 416): [1, None, 1, 1, None],\n",
       " (240, 416): [1, None, 1, 1, None],\n",
       " (288, 416): [None, 1, 1, 1, None],\n",
       " (336, 416): [1, 1, 1, None, None],\n",
       " (384, 416): [None, 1, None, 1, None],\n",
       " (416, 416): [1, None, 1, None, None],\n",
       " (16, 464): [None, 1, None, 1, None],\n",
       " (48, 464): [1, None, 1, 1, None],\n",
       " (96, 464): [1, None, 1, None, None],\n",
       " (144, 464): [1, None, None, 1, None],\n",
       " (192, 464): [None, 1, 1, None, None],\n",
       " (240, 464): [None, 1, None, 1, None],\n",
       " (288, 464): [1, None, 1, None, None],\n",
       " (336, 464): [1, None, None, 1, None],\n",
       " (384, 464): [1, None, 1, 1, None],\n",
       " (416, 464): [None, 1, 1, None, None],\n",
       " (16, 512): [1, None, None, 1, None],\n",
       " (192, 512): [1, None, 1, 1, None],\n",
       " (240, 512): [1, None, 1, 1, None],\n",
       " (416, 512): [1, None, 1, None, None]}"
      ]
     },
     "execution_count": 1,
     "metadata": {},
     "output_type": "execute_result"
    }
   ],
   "source": [
    "nodes_costs = {(16, 64): [None, 1, None, 1, None], (96, 64): [None, 1, 1, 1, None], (192, 64): [None, 1, 1, None, None], (240, 64): [None, 1, None, 1, None], (336, 64): [None, 1, 1, 1, None], (416, 64): [None, 1, 1, None, None], (16, 128): [1, 1, None, 1, None], (96, 128): [1, 1, 1, 1, None], (144, 128): [None, 1, 1, 1, None], (192, 128): [1, None, 1, 1, None], (240, 128): [1, None, 1, 1, None], (288, 128): [None, 1, 1, 1, None], (336, 128): [1, 1, 1, 1, None], (416, 128): [1, 1, 1, None, None], (16, 176): [1, None, None, 1, None], (96, 176): [1, 1, 1, None, None], (144, 176): [1, None, None, 1, None], (192, 176): [None, 1, 1, None, None], (240, 176): [None, 1, None, 1, None], (288, 176): [1, None, 1, None, None], (336, 176): [1, 1, None, 1, None], (416, 176): [1, None, 1, None, None], (144, 224): [None, 1, None, 1, None], (192, 224): [1, None, 1, 1, None], (240, 224): [1, None, 1, 1, None], (288, 224): [None, 1, 1, None, None], (0, 272): [None, None, None, 1, None], (96, 272): [1, 1, 1, 1, None], (144, 272): [1, 1, 1, None, None], (288, 272): [1, 1, None, 1, None], (336, 272): [1, 1, 1, 1, None], (432, 272): [None, None, 1, None, None], (144, 320): [1, 1, None, 1, None], (288, 320): [1, 1, 1, None, None], (16, 368): [None, 1, None, 1, None], (96, 368): [1, 1, 1, 1, None], (144, 368): [1, None, 1, 1, None], (192, 368): [None, 1, 1, None, None], (240, 368): [None, 1, None, 1, None], (288, 368): [1, None, 1, 1, None], (336, 368): [1, 1, 1, 1, None], (416, 368): [None, 1, 1, None, None], (16, 416): [1, None, None, 1, None], (48, 416): [None, 1, 1, None, None], (96, 416): [1, 1, None, 1, None], (144, 416): [None, 1, 1, 1, None], (192, 416): [1, None, 1, 1, None], (240, 416): [1, None, 1, 1, None], (288, 416): [None, 1, 1, 1, None], (336, 416): [1, 1, 1, None, None], (384, 416): [None, 1, None, 1, None], (416, 416): [1, None, 1, None, None], (16, 464): [None, 1, None, 1, None], (48, 464): [1, None, 1, 1, None], (96, 464): [1, None, 1, None, None], (144, 464): [1, None, None, 1, None], (192, 464): [None, 1, 1, None, None], (240, 464): [None, 1, None, 1, None], (288, 464): [1, None, 1, None, None], (336, 464): [1, None, None, 1, None], (384, 464): [1, None, 1, 1, None], (416, 464): [None, 1, 1, None, None], (16, 512): [1, None, None, 1, None], (192, 512): [1, None, 1, 1, None], (240, 512): [1, None, 1, 1, None], (416, 512): [1, None, 1, None, None]}\n",
    "nodes_costs"
   ]
  },
  {
   "cell_type": "code",
   "execution_count": 5,
   "metadata": {},
   "outputs": [
    {
     "ename": "AttributeError",
     "evalue": "'dict' object has no attribute 'getNeighbors'",
     "output_type": "error",
     "traceback": [
      "\u001b[0;31m---------------------------------------------------------------------------\u001b[0m",
      "\u001b[0;31mAttributeError\u001b[0m                            Traceback (most recent call last)",
      "Cell \u001b[0;32mIn[5], line 44\u001b[0m\n\u001b[1;32m     41\u001b[0m         unvisited_nodes\u001b[39m.\u001b[39mremove(current_min_node)    \n\u001b[1;32m     42\u001b[0m     \u001b[39mreturn\u001b[39;00m previous_nodes, shortest_path\n\u001b[0;32m---> 44\u001b[0m dijkstra_or_a_star(nodes\u001b[39m=\u001b[39;49mnodes_costs, start_node\u001b[39m=\u001b[39;49m(\u001b[39m336\u001b[39;49m, \u001b[39m176\u001b[39;49m), a_star\u001b[39m=\u001b[39;49m\u001b[39mFalse\u001b[39;49;00m)\n",
      "Cell \u001b[0;32mIn[5], line 26\u001b[0m, in \u001b[0;36mdijkstra_or_a_star\u001b[0;34m(nodes, start_node, a_star)\u001b[0m\n\u001b[1;32m     23\u001b[0m     \u001b[39melif\u001b[39;00m shortest_path[node] \u001b[39m<\u001b[39m shortest_path[current_min_node]:\n\u001b[1;32m     24\u001b[0m         current_min_node \u001b[39m=\u001b[39m node\n\u001b[0;32m---> 26\u001b[0m neighbors \u001b[39m=\u001b[39m nodes\u001b[39m.\u001b[39;49mgetNeighbors(current_min_node)\n\u001b[1;32m     27\u001b[0m \u001b[39mfor\u001b[39;00m neighbor \u001b[39min\u001b[39;00m neighbors:\n\u001b[1;32m     28\u001b[0m     \u001b[39mif\u001b[39;00m a_star:\n",
      "\u001b[0;31mAttributeError\u001b[0m: 'dict' object has no attribute 'getNeighbors'"
     ]
    }
   ],
   "source": [
    "import sys\n",
    "\n",
    "def heuristic(node1, node2):\n",
    "    # manhattan distance\n",
    "    return abs(node1[0] - node2[0]) + abs(node1[1] - node2[1])\n",
    "\n",
    "\n",
    "def get_neighbors(self, node):\n",
    "    x, y = node\n",
    "    neighbors = []\n",
    "    # Assuming order in costs_list is [up, right, down, left]\n",
    "    directions = [(-1, 0), (0, 1), (1, 0), (0, -1)]\n",
    "    costs_list = self.node_costs[node]\n",
    "\n",
    "    for i, cost in enumerate(costs_list):\n",
    "        if cost is not None:\n",
    "            dx, dy = directions[i]\n",
    "            neighbor = (x + dx, y + dy)\n",
    "            neighbors.append(neighbor)\n",
    "\n",
    "    return neighbors\n",
    "\n",
    "\n",
    "\n",
    "def dijkstra_or_a_star(nodes, start_node, a_star=False):\n",
    "    unvisited_nodes = list(nodes.keys())\n",
    "    shortest_path = {}\n",
    "    previous_nodes = {}\n",
    "\n",
    "    max_value = sys.maxsize\n",
    "    for node in unvisited_nodes:\n",
    "        shortest_path[node] = max_value\n",
    "    shortest_path[start_node] = 0\n",
    "\n",
    "    while unvisited_nodes:\n",
    "        current_min_node = None\n",
    "        for node in unvisited_nodes:\n",
    "            if current_min_node == None:\n",
    "                current_min_node = node\n",
    "            elif shortest_path[node] < shortest_path[current_min_node]:\n",
    "                current_min_node = node\n",
    "\n",
    "        neighbors = nodes.getNeighbors(current_min_node)\n",
    "        for neighbor in neighbors:\n",
    "            if a_star:\n",
    "                tentative_value = shortest_path[current_min_node] + heuristic(current_min_node,neighbor) \n",
    "            else:\n",
    "                tentative_value = shortest_path[current_min_node] + 1\n",
    "            try:\n",
    "                if tentative_value < shortest_path[neighbor]:\n",
    "                    shortest_path[neighbor] = tentative_value\n",
    "                    # We also update the best path to the current node\n",
    "                    previous_nodes[neighbor] = current_min_node\n",
    "            except Exception as e:\n",
    "                # print('WARNING! There is a node that could not be found from the list of neighbors',e)\n",
    "                pass\n",
    "        # After visiting its neighbors, we mark the node as \"visited\"\n",
    "        unvisited_nodes.remove(current_min_node)    \n",
    "    return previous_nodes, shortest_path\n",
    "\n",
    "dijkstra_or_a_star(nodes=nodes_costs, start_node=(336, 176), a_star=False)"
   ]
  }
 ],
 "metadata": {
  "kernelspec": {
   "display_name": "Python 3",
   "language": "python",
   "name": "python3"
  },
  "language_info": {
   "codemirror_mode": {
    "name": "ipython",
    "version": 3
   },
   "file_extension": ".py",
   "mimetype": "text/x-python",
   "name": "python",
   "nbconvert_exporter": "python",
   "pygments_lexer": "ipython3",
   "version": "3.11.4"
  },
  "orig_nbformat": 4
 },
 "nbformat": 4,
 "nbformat_minor": 2
}
